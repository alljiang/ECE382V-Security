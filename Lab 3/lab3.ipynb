{
 "cells": [
  {
   "cell_type": "code",
   "execution_count": 5,
   "metadata": {},
   "outputs": [],
   "source": [
    "from matplotlib import pyplot as plt\n",
    "import numpy as np\n",
    "import csv\n",
    "import heapq\n",
    "\n",
    "input_file = \"traces.csv\""
   ]
  },
  {
   "cell_type": "code",
   "execution_count": 6,
   "metadata": {},
   "outputs": [],
   "source": [
    "# Read the CSV file\n",
    "with open(input_file, 'r') as csvfile:\n",
    "    reader = csv.reader(csvfile, delimiter=',')\n",
    "    # Skip the header\n",
    "    next(reader)\n",
    "    # Read the data into memory\n",
    "    data = []\n",
    "    for row in reader:\n",
    "        # convert row to ints\n",
    "        row = [int(i) for i in row]\n",
    "        data.append(row)"
   ]
  },
  {
   "cell_type": "code",
   "execution_count": 33,
   "metadata": {},
   "outputs": [],
   "source": [
    "# Question 1\n",
    "\n",
    "def track_peaks (trace):\n",
    "    peak_minimum = 10000\n",
    "    peak_window = 20\n",
    "    history = []\n",
    "    peak_indices = []\n",
    "    found_peak_in_previous_window = False\n",
    "    cooling_off = False\n",
    "    max_tuple = (0, 0)\n",
    "    for i in range(0, len(trace)):\n",
    "        if len(history) < peak_window - 1:\n",
    "            history.append(trace[i])\n",
    "        else:\n",
    "            history.append(trace[i])\n",
    "\n",
    "            window_max = (max(history), history.index(max(history)) + i - peak_window + 1)\n",
    "            peak_high_enough = window_max[0] > peak_minimum\n",
    "            if window_max[0] < max_tuple[0] and found_peak_in_previous_window:\n",
    "                peak_indices.append(max_tuple[1])\n",
    "                found_peak_in_previous_window = False\n",
    "                max_tuple = (0, 0)\n",
    "                cooling_off = True\n",
    "            elif cooling_off:\n",
    "                if not peak_high_enough:\n",
    "                    cooling_off = False\n",
    "            elif peak_high_enough:\n",
    "                max_tuple = window_max\n",
    "                found_peak_in_previous_window = True\n",
    "\n",
    "            # print(i, trace[i], window_max, max_tuple, found_peak_in_previous_window)\n",
    "            history.pop(0)\n",
    "\n",
    "    return peak_indices\n",
    "\n",
    "# plt.plot(data[3])\n",
    "# print(data[3])\n",
    "# print(track_peaks(data[3]))\n",
    "\n",
    "\n",
    "all_peaks = []\n",
    "for i in range(0, len(data)):\n",
    "    all_peaks.append(track_peaks(data[i]))\n",
    "    num_peaks = len(all_peaks[i])\n",
    "\n"
   ]
  }
 ],
 "metadata": {
  "kernelspec": {
   "display_name": "Python 3",
   "language": "python",
   "name": "python3"
  },
  "language_info": {
   "codemirror_mode": {
    "name": "ipython",
    "version": 3
   },
   "file_extension": ".py",
   "mimetype": "text/x-python",
   "name": "python",
   "nbconvert_exporter": "python",
   "pygments_lexer": "ipython3",
   "version": "3.9.0"
  },
  "orig_nbformat": 4
 },
 "nbformat": 4,
 "nbformat_minor": 2
}
